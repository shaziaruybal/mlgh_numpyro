{
  "cells": [
    {
      "cell_type": "markdown",
      "metadata": {
        "id": "view-in-github",
        "colab_type": "text"
      },
      "source": [
        "<a href=\"https://colab.research.google.com/github/shaziaruybal/mlgh_numpyro/blob/main/04_probability_distributions.ipynb\" target=\"_parent\"><img src=\"https://colab.research.google.com/assets/colab-badge.svg\" alt=\"Open In Colab\"/></a>"
      ]
    },
    {
      "cell_type": "markdown",
      "metadata": {
        "id": "PQ6CFkUQ0mZ9"
      },
      "source": [
        "# Probability Distributions and Random Variables"
      ]
    },
    {
      "cell_type": "markdown",
      "metadata": {
        "id": "0pNqL1y30mZ-"
      },
      "source": [
        "Throughout the course we will work with probability distributions. Hence, it is important to master the basic principles of probability distributions, and learn to manipulate probabilities in code.\n",
        "\n",
        "Probability distributions and random variables serve as tools for describing and performing calculations related to <font color='orange'>random events</font>, specifically those whose outcomes are uncertain.\n",
        "\n",
        "An illustrative example of such an uncertain event would be the act of flipping a coin or rolling a dice. In the former case, the potential outcomes are heads or tails.\n",
        "\n",
        "An example of a random event from epidemiology, is the number of disease cases $y(t)$ on a given day $t$.\n",
        "\n",
        "In the context of epidemiological modelling, we will encounter <font color='orange'>data of different types</font> and origin. It is crucial to grasp the suitability of different probability distributions for modeling specific types of data.\n",
        "\n",
        "Since the probabilistic programming language that we will be using for this course is  <font color='teal'>Numpyro</font>, also in this section we will use the implementations of distributions from this library avalable via `import numpyro.distributions as dist`"
      ]
    },
    {
      "cell_type": "code",
      "execution_count": null,
      "metadata": {
        "id": "SNW9tp3t0mZ_"
      },
      "outputs": [],
      "source": [
        "# uncomment this line on Colab\n",
        "# !pip install numpyro"
      ]
    },
    {
      "cell_type": "markdown",
      "metadata": {
        "id": "LFDSrpFu0mZ_"
      },
      "source": [
        "```{margin}\n",
        "In all notebooks of this course, we will always import all necessary libraries in the first code cell.\n",
        "```"
      ]
    },
    {
      "cell_type": "code",
      "execution_count": null,
      "metadata": {
        "id": "Po1MwSbz0mZ_",
        "outputId": "b2e200f1-98ff-4e49-db37-53ad543bea54"
      },
      "outputs": [
        {
          "name": "stderr",
          "output_type": "stream",
          "text": [
            "/opt/anaconda3/envs/aims/lib/python3.9/site-packages/tqdm/auto.py:21: TqdmWarning: IProgress not found. Please update jupyter and ipywidgets. See https://ipywidgets.readthedocs.io/en/stable/user_install.html\n",
            "  from .autonotebook import tqdm as notebook_tqdm\n"
          ]
        }
      ],
      "source": [
        "import jax\n",
        "import jax.numpy as jnp\n",
        "\n",
        "# distributions\n",
        "import numpyro.distributions as dist\n",
        "\n",
        "import matplotlib.pyplot as plt\n",
        "\n",
        "# Since we are using jax, we will need a random key:\n",
        "rng = jax.random.PRNGKey(42)"
      ]
    },
    {
      "cell_type": "markdown",
      "metadata": {
        "id": "MoIh87SA0maA"
      },
      "source": [
        "## Discrete Distributions\n",
        "\n",
        "Discrete probability distributions represent the probabilities of distinct outcomes in a <span style=\"color:orange\">finite</span> or <span style=\"color:orange\">countably infinite</span> sample space."
      ]
    },
    {
      "cell_type": "markdown",
      "metadata": {
        "id": "qkHLnokO0maA"
      },
      "source": [
        "### The Bernoulli distribution\n",
        "\n",
        "A Bernoulli distribution is used to describe random events with <span style=\"color:orange\">two possible outcomes</span> e.g. when we have a random variable $X$ that takes on one of the two values $x \\in \\{0, 1\\}$ with probabilities $1-p$ and $p, 0 \\le p \\le 1$ respectively:\n",
        "\n",
        "\\begin{align*}\n",
        "p(X = 1) &= p, \\\\\n",
        "p(X = 0) &= 1 - p.\n",
        "\\end{align*}\n",
        "\n",
        "Here $p$ is the probability of the 'positive' outcome. For example, in the case of a *fair* coin toss, $p = 0.5$ so that both outcomes have a 50\\% chance of occurring.\n",
        "\n",
        "We will be denoting this distribution as\n",
        "\n",
        "$$\n",
        "X \\sim \\mathcal{Bern}(p).\n",
        "$$\n",
        "\n",
        "or, equivalently,\n",
        "\n",
        "$$\n",
        "\\mathcal{Bern}(X | p).\n",
        "$$\n",
        "\n",
        "#### Probability mass function\n",
        "A *discrete* probability distribution can be uniquely defined by its <span style=\"color:orange\">probability mass function (PMF)</span>.\n",
        "\n",
        "```{margin}\n",
        "The term 'mass' is used to underline that the support of the distribution is discrete, and each possible value carries a certain `mass` (probability).\n",
        "For continuous distributions, the analogous is  <span style=\"color:orange\">probability density function (PDF)</span>, we will see those later.\n",
        "```\n",
        "For the Bernoulli distribution, we write the PMF as\n",
        "\n",
        "\\begin{align*}\n",
        "p(X = x) = \\mathcal{Bern}(X\\mid p) &= \\begin{cases}\n",
        "p\\, & \\text{if } x = 1 \\\\\n",
        "1 - p\\, & \\text{if } x = 0\n",
        "\\end{cases} \\\\\n",
        "&= p^x(1-p)^{1-x}.\n",
        "\\end{align*}\n",
        "\n",
        "`````{admonition} Task 02\n",
        ":class: tip\n",
        "Convince yourself that the two definitions of the Bernoulli distribution shown above are equivalent.\n",
        "`````\n",
        "\n",
        "Now let's construct a Bernoulli distribution in code."
      ]
    },
    {
      "cell_type": "markdown",
      "metadata": {
        "id": "_7ZJUjxd0maA"
      },
      "source": [
        "#### Drawing a sample\n",
        "\n",
        "We construct the distribution with a certain value of the parameter `p`:"
      ]
    },
    {
      "cell_type": "code",
      "execution_count": null,
      "metadata": {
        "id": "_jyrqF1T0maA"
      },
      "outputs": [],
      "source": [
        "p = jnp.array(0.5)\n",
        "bernoulli = dist.Bernoulli(probs=p)"
      ]
    },
    {
      "cell_type": "markdown",
      "metadata": {
        "id": "8FhxFdbZ0maA"
      },
      "source": [
        "```{margin}\n",
        "We can think of a sample as a <span style=\"color:orange\">realisation</span> of a random variable.\n",
        "```\n",
        "Now that we have constructed the distribution we can get a  <span style=\"color:orange\">sample</span> from it:"
      ]
    },
    {
      "cell_type": "code",
      "execution_count": null,
      "metadata": {
        "id": "GKHBR6gy0maA",
        "outputId": "28ea5548-a52e-41cd-d604-1f792c33fe11"
      },
      "outputs": [
        {
          "name": "stdout",
          "output_type": "stream",
          "text": [
            "1\n"
          ]
        }
      ],
      "source": [
        "sample = bernoulli.sample(key=rng)\n",
        "print(sample)"
      ]
    },
    {
      "cell_type": "markdown",
      "metadata": {
        "id": "yHLZ8esZ0maA"
      },
      "source": [
        "And we can evaluate the probability of observing a sample.\n",
        "\n",
        "**Note:** the distribution objects in `numpyro` (and most other libraries for probability distributions) return <span style=\"color:orange\">log-probabilities</span> rather than raw probabilities. This means that we need to take the exponent if we want to know the probability."
      ]
    },
    {
      "cell_type": "code",
      "execution_count": null,
      "metadata": {
        "id": "EsVGeMJM0maB",
        "outputId": "086a4050-372f-4486-faa7-77872fe03a21"
      },
      "outputs": [
        {
          "name": "stdout",
          "output_type": "stream",
          "text": [
            "log p(X = 1) = -0.6931471824645996\n",
            "p(X = 1) = 0.5\n"
          ]
        }
      ],
      "source": [
        "log_prob = bernoulli.log_prob(sample)\n",
        "print(f\"log p(X = {sample}) = {log_prob}\")\n",
        "print(f\"p(X = {sample}) = {jnp.exp(log_prob)}\")"
      ]
    },
    {
      "cell_type": "markdown",
      "metadata": {
        "id": "kZLQE0Fm0maB"
      },
      "source": [
        "As expected, we get a probability of 0.5."
      ]
    },
    {
      "cell_type": "markdown",
      "metadata": {
        "id": "IeBlEXKm0maB"
      },
      "source": [
        "#### Multiple samples\n",
        "\n",
        "We can also easily get multiple samples in one command by including `sample_shape`:\n",
        "\n",
        "```{margin}\n",
        "Multiple samples are different realisations of the <span style=\"color:orange\">same</span> random variable.\n",
        "```"
      ]
    },
    {
      "cell_type": "code",
      "execution_count": null,
      "metadata": {
        "id": "ydijjudJ0maB",
        "outputId": "69897908-efb9-4ae2-ae0e-e6b8d63d5898"
      },
      "outputs": [
        {
          "name": "stdout",
          "output_type": "stream",
          "text": [
            "[0 0 1 1 0 1 1]\n"
          ]
        }
      ],
      "source": [
        "n_samps = 7\n",
        "samples = bernoulli.sample(key=rng, sample_shape=(n_samps,))\n",
        "print(samples)"
      ]
    },
    {
      "cell_type": "markdown",
      "metadata": {
        "id": "P-_bhYHQ0maB"
      },
      "source": [
        "What if we wanted to evaluate the probability of observing all of our samples?\n",
        "\n",
        "The `bernoulli` object we created earlier treats each sample individually and returns the probabilities of observing each sample on its own:"
      ]
    },
    {
      "cell_type": "code",
      "execution_count": null,
      "metadata": {
        "id": "UvZgSIxN0maB",
        "outputId": "32e3a7f0-4944-4efa-87a8-54973bc9e957"
      },
      "outputs": [
        {
          "name": "stdout",
          "output_type": "stream",
          "text": [
            "[0.5 0.5 0.5 0.5 0.5 0.5 0.5]\n"
          ]
        }
      ],
      "source": [
        "individual_sample_probs = jnp.exp(bernoulli.log_prob(samples))\n",
        "print(individual_sample_probs)"
      ]
    },
    {
      "cell_type": "markdown",
      "metadata": {
        "id": "lBRZFgJ-0maB"
      },
      "source": [
        "But, we can use one of the laws of probability to compute the probability of observing all of the samples together, i.e. <span style=\"color:orange\">jointly</span>:\n",
        "\n",
        "\\begin{align*}\n",
        "p(X_1=x_1, X_2=x_2, \\dots, X_N=x_n) = \\prod_{n=1}^N p(X_n=x_n).\n",
        "\\end{align*}\n",
        "\n",
        "This is called the <span style=\"color:orange\">product rule of probability</span>, and it says that for <span style=\"color:orange\">independent</span> random variables, the joint probability (i.e., the probability of observing them all together) is equal to the product of the individual probabilities.\n",
        "\n",
        "Now, let's calculate the joint probability of our samples.\n",
        "\n",
        "```{margin}\n",
        "Working with log-probabilities is preferable due to numerical stability, computational efficiency, and ease of handling multiplicative operations.\n",
        "```"
      ]
    },
    {
      "cell_type": "code",
      "execution_count": null,
      "metadata": {
        "id": "2nsA3nM-0maB",
        "outputId": "9892f016-8351-4ebd-f956-e3456144208e"
      },
      "outputs": [
        {
          "name": "stdout",
          "output_type": "stream",
          "text": [
            "0.0078125\n"
          ]
        }
      ],
      "source": [
        "joint_prob = jnp.prod(individual_sample_probs)\n",
        "print(joint_prob)"
      ]
    },
    {
      "cell_type": "markdown",
      "metadata": {
        "id": "qvZ7NG270maB"
      },
      "source": [
        "#### Visualise PMF\n",
        "\n",
        "Now let's visualise the PMF:"
      ]
    },
    {
      "cell_type": "code",
      "execution_count": null,
      "metadata": {
        "id": "IrL107dt0maB"
      },
      "outputs": [],
      "source": [
        "def Bernouilli_vis(rng, p, n_samps):\n",
        "\n",
        "    # define distribution\n",
        "    bernoulli = dist.Bernoulli(probs=p)\n",
        "\n",
        "    # collect samples\n",
        "    samples = bernoulli.sample(key=rng, sample_shape=(n_samps,))\n",
        "\n",
        "    # how many ones\n",
        "    num_ones = (samples == 1.).sum()\n",
        "\n",
        "    # how many zeros\n",
        "    num_zeros = (samples == 0.).sum()\n",
        "\n",
        "    # plot\n",
        "    fig = plt.figure(dpi=100, figsize=(5, 3))\n",
        "    ax = fig.add_subplot(1, 1, 1)\n",
        "    ax.bar([0, 1], [num_zeros/n_samps, num_ones/n_samps], alpha=0.7, color='teal')\n",
        "\n",
        "    ax.set_xticks([0, 1])\n",
        "    ax.set_xlabel('Outcome (x)')\n",
        "    ax.set_ylabel('Probability Mass p(X=x)')\n",
        "    ax.set_title(f'Bernoulli Distribution (p={p})')\n",
        "    ax.grid(True)\n",
        "\n",
        "    plt.show()\n",
        "\n"
      ]
    },
    {
      "cell_type": "code",
      "execution_count": null,
      "metadata": {
        "id": "9yW9sfU20maB",
        "outputId": "1f2c640c-125d-4ae1-e6df-b52892552925"
      },
      "outputs": [
        {
          "data": {
            "image/png": "[encoded data removed]",
            "text/plain": [
              "<Figure size 500x300 with 1 Axes>"
            ]
          },
          "metadata": {
            "needs_background": "light"
          },
          "output_type": "display_data"
        }
      ],
      "source": [
        "Bernouilli_vis(rng, p=0.2, n_samps=10)"
      ]
    },
    {
      "cell_type": "markdown",
      "metadata": {
        "id": "pM4Ky8L90maB"
      },
      "source": [
        "`````{admonition} Task 03\n",
        ":class: tip\n",
        "Recreate this plot using `bernoulli.log_prob(sample)` functionality (see examples below).\n",
        "`````"
      ]
    },
    {
      "cell_type": "code",
      "execution_count": null,
      "metadata": {
        "id": "-g1n_Zrp0maB",
        "outputId": "6b88d5ce-88d7-47ee-a0ad-c5caa4d322a6"
      },
      "outputs": [
        {
          "data": {
            "image/png": "[encoded data removed]",
            "text/plain": [
              "<Figure size 500x300 with 1 Axes>"
            ]
          },
          "metadata": {
            "needs_background": "light"
          },
          "output_type": "display_data"
        }
      ],
      "source": [
        "Bernouilli_vis(rng, p=0.7, n_samps=100)"
      ]
    },
    {
      "cell_type": "markdown",
      "metadata": {
        "id": "w-xl7eEG0maB"
      },
      "source": [
        "`````{admonition} Task 04\n",
        ":class: tip\n",
        "Plot a panel of histograms where you vary probability $p$ horizontally and number of samples $n$ vertically. What do you observe?\n",
        "`````"
      ]
    },
    {
      "cell_type": "markdown",
      "metadata": {
        "id": "1rBaGFar0maB"
      },
      "source": [
        "#### Common usage\n",
        "\n",
        "Bernoulli distribution is commonly used as a likelihood in models with <font color='orange'>binary outcomes</font>, such as presence or absence of a disease."
      ]
    },
    {
      "cell_type": "markdown",
      "metadata": {
        "id": "xuPC9vYe0maB"
      },
      "source": [
        "### The Binomial distribution\n",
        "\n",
        "A binomial distribution is a discrete probability distribution that models the <font color='orange'>number of successes</font> $x$ in a fixed number $n$ of independent and identical Bernoulli trials, where each trial has only two possible outcomes: \"success\" (represented as \"1\") with probability $p$ or \"failure\" (represented as \"0\") with probability $1-p$.\n",
        "\n",
        "We will use the notation\n",
        "\n",
        "$$\n",
        "X \\sim \\mathcal{Binom}(n,p)\n",
        "$$\n",
        "\n",
        "#### Probability mass function\n",
        "\n",
        "The PMF of the Binomial distribution is\n",
        "\n",
        "$$P(X = x) = \\binom{n}{x} p^x (1 - p)^{n - x},$$\n",
        "\n",
        "where\n",
        "\n",
        "- $P(X = x)$ is the probability of getting exactly $x$ successes,\n",
        "\n",
        "- $\\binom{n}{x}$ is the binomial coefficient, representing the number of ways to choose $x$ successes out of $n$ trials,\n",
        "\n",
        "- $p$ is the probability of success on a single trial,\n",
        "\n",
        "- $1-p$ is the probability of failure on a single trial,\n",
        "\n",
        "- the number of successes $x$ ranges from $0$ to $n$ inclusive.\n",
        "\n",
        "`````{admonition} Task 05\n",
        ":class: tip\n",
        "Compute $\\sum_{x=0}^n P(X=x)$.\n",
        "`````\n",
        "\n",
        "#### Drawing a sample"
      ]
    },
    {
      "cell_type": "markdown",
      "metadata": {
        "id": "yuZlBNI60maB"
      },
      "source": [
        "As before, we begin by constructing the distribution:"
      ]
    },
    {
      "cell_type": "code",
      "execution_count": null,
      "metadata": {
        "id": "3q8nNaMi0maB"
      },
      "outputs": [],
      "source": [
        "p = 0.3\n",
        "n = 10\n",
        "binomial = dist.Binomial(total_count=n, probs=p)"
      ]
    },
    {
      "cell_type": "markdown",
      "metadata": {
        "id": "bAtPPP7I0maC"
      },
      "source": [
        "Now we can draw a sample from this distribution:"
      ]
    },
    {
      "cell_type": "code",
      "execution_count": null,
      "metadata": {
        "id": "iJisskma0maC",
        "outputId": "606c3738-6785-43e2-f0df-bea1e71114e4"
      },
      "outputs": [
        {
          "name": "stdout",
          "output_type": "stream",
          "text": [
            "4\n"
          ]
        }
      ],
      "source": [
        "sample = binomial.sample(key=rng)\n",
        "print(sample)"
      ]
    },
    {
      "cell_type": "markdown",
      "metadata": {
        "id": "dHpfP1oh0maC"
      },
      "source": [
        "`````{admonition} Task 06\n",
        ":class: tip\n",
        "Draw several samples from this distribution using different keys. And draw repeatedly several samples with the same key. What do you conclude about the role of `key` in reproducibility of numerical experiments?\n",
        "`````"
      ]
    },
    {
      "cell_type": "markdown",
      "metadata": {
        "id": "J99qHxU10maC"
      },
      "source": [
        "What is the probability to observe this sample?"
      ]
    },
    {
      "cell_type": "code",
      "execution_count": null,
      "metadata": {
        "id": "3fWeKd5H0maC",
        "outputId": "3e00b1ab-f119-479b-e222-3fd4de49a557"
      },
      "outputs": [
        {
          "name": "stdout",
          "output_type": "stream",
          "text": [
            "log p(X = 4) = -1.608832836151123\n",
            "p(X = 4) = 0.20012104511260986\n"
          ]
        }
      ],
      "source": [
        "log_prob = binomial.log_prob(sample)\n",
        "print(f\"log p(X = {sample}) = {log_prob}\")\n",
        "print(f\"p(X = {sample}) = {jnp.exp(log_prob)}\")"
      ]
    },
    {
      "cell_type": "markdown",
      "metadata": {
        "id": "T5bpp5iQ0maC"
      },
      "source": [
        "#### Multiple samples"
      ]
    },
    {
      "cell_type": "markdown",
      "metadata": {
        "id": "s3PUtEaU0maC"
      },
      "source": [
        "Let us generate several samples:"
      ]
    },
    {
      "cell_type": "code",
      "execution_count": null,
      "metadata": {
        "id": "q1h3ZVHx0maC",
        "outputId": "c181564a-bdd0-4ba9-931d-19c773ca9022"
      },
      "outputs": [
        {
          "name": "stdout",
          "output_type": "stream",
          "text": [
            "[3 6 1 3 2 4 5]\n"
          ]
        }
      ],
      "source": [
        "n_samps = 7\n",
        "samples = binomial.sample(key=rng, sample_shape=(n_samps,))\n",
        "print(samples)"
      ]
    },
    {
      "cell_type": "markdown",
      "metadata": {
        "id": "5KzmzyvR0maC"
      },
      "source": [
        "Individual probabilities to observe the samples:"
      ]
    },
    {
      "cell_type": "code",
      "execution_count": null,
      "metadata": {
        "id": "Q2I_JeQn0maF",
        "outputId": "6a353a2e-a46f-439c-b4ea-ab820dffe802"
      },
      "outputs": [
        {
          "name": "stdout",
          "output_type": "stream",
          "text": [
            "[0.26682812 0.03675695 0.12106086 0.26682812 0.23347507 0.20012105\n",
            " 0.10291947]\n"
          ]
        }
      ],
      "source": [
        "individual_sample_probs = jnp.exp(binomial.log_prob(samples))\n",
        "print(individual_sample_probs)"
      ]
    },
    {
      "cell_type": "markdown",
      "metadata": {
        "id": "CoPaJELI0maF"
      },
      "source": [
        "Assuming that the samples are independent, what is the joint probability of observeing them?"
      ]
    },
    {
      "cell_type": "code",
      "execution_count": null,
      "metadata": {
        "id": "Hs2MDszA0maF",
        "outputId": "550e1197-5208-4df7-c642-8409da5597c9"
      },
      "outputs": [
        {
          "name": "stdout",
          "output_type": "stream",
          "text": [
            "1.5234818e-06\n"
          ]
        }
      ],
      "source": [
        "joint_prob = jnp.prod(individual_sample_probs)\n",
        "print(joint_prob)"
      ]
    },
    {
      "cell_type": "markdown",
      "metadata": {
        "id": "dRDYzfZH0maF"
      },
      "source": [
        "#### Visualise PMF"
      ]
    },
    {
      "cell_type": "code",
      "execution_count": null,
      "metadata": {
        "id": "ezo_vWN80maF"
      },
      "outputs": [],
      "source": [
        "def binomial_vis(rng, p, n, x_ticks=True):\n",
        "\n",
        "    # Binomial distribution with n trials and probability of success p\n",
        "    binomial = dist.Binomial(total_count=n, probs=p)\n",
        "\n",
        "    # Generate the possible outcomes (x values)\n",
        "    x_values = jnp.arange(0, n + 1)\n",
        "\n",
        "    pmf_values = jnp.exp(binomial.log_prob(x_values))\n",
        "\n",
        "    # Create a bar plot (PMF plot)\n",
        "    fig = plt.figure(dpi=100, figsize=(5, 3))\n",
        "    plt.bar(x_values, pmf_values, align='center', alpha=0.7, color='teal')\n",
        "    plt.xlabel('Number of Successes (x)')\n",
        "    plt.ylabel('Probability Mass p(X=x)')\n",
        "    plt.title(f'Binomial Distribution (n={n}, p={p})')\n",
        "    if x_ticks:\n",
        "        plt.xticks(x_values)\n",
        "    plt.grid( linestyle='--', alpha=0.7)\n",
        "\n",
        "    plt.show()\n"
      ]
    },
    {
      "cell_type": "code",
      "execution_count": null,
      "metadata": {
        "id": "klgKQlME0maF",
        "outputId": "9077b68d-cb52-4602-c5a9-356432a2fa8a"
      },
      "outputs": [
        {
          "data": {
            "image/png": "[encoded data removed]",
            "text/plain": [
              "<Figure size 500x300 with 1 Axes>"
            ]
          },
          "metadata": {
            "needs_background": "light"
          },
          "output_type": "display_data"
        }
      ],
      "source": [
        "binomial_vis(rng, p=0.2, n=6)"
      ]
    },
    {
      "cell_type": "code",
      "execution_count": null,
      "metadata": {
        "id": "w46RrJPR0maF",
        "outputId": "11c6b739-d5e4-4998-8310-67f7f408e97f"
      },
      "outputs": [
        {
          "data": {
            "image/png": "[encoded data removed]",
            "text/plain": [
              "<Figure size 500x300 with 1 Axes>"
            ]
          },
          "metadata": {
            "needs_background": "light"
          },
          "output_type": "display_data"
        }
      ],
      "source": [
        "binomial_vis(rng, p=0.2, n=100, x_ticks=False)"
      ]
    },
    {
      "cell_type": "markdown",
      "metadata": {
        "id": "nhryYYNs0maF"
      },
      "source": [
        "`````{admonition} Task 07\n",
        ":class: tip\n",
        "What is qualitatively different between the shapes of distributions `Bernoulli(p=0.2, n=6)` and `Bernoulli(p=0.2, n=100)`?\n",
        "`````"
      ]
    },
    {
      "cell_type": "markdown",
      "metadata": {
        "id": "BceVl_Us0maF"
      },
      "source": [
        "#### Common usage\n",
        "\n",
        "Binomial distribution is commonly used as a likelihood in models with binary outcomes with multiple experiments. For example, to model disease prevalence."
      ]
    },
    {
      "cell_type": "markdown",
      "metadata": {
        "id": "JZ_-uxT50maF"
      },
      "source": [
        "### The Categorical distribution\n",
        "\n",
        "A categorical distribution is used to model random events with <font color='orange'>multiple discrete unordered outcomes</font>, such as the die-rolling event from above.\n",
        "\n",
        "We can characterise the categorical distribution with its PMF:"
      ]
    },
    {
      "cell_type": "markdown",
      "metadata": {
        "id": "AFnyrPZd0maF"
      },
      "source": [
        "$$\n",
        "\\begin{align*}\n",
        "p(X = x) = \\mathcal{Categorical}(X \\mid p) = \\prod_{k=1}^K p_k^{I_{x=k}},\n",
        "\\end{align*}\n",
        "$$"
      ]
    },
    {
      "cell_type": "markdown",
      "metadata": {
        "id": "gEr5fCfa0maF"
      },
      "source": [
        "where $K$ is the number of possible outcomes, $p_k$ is the probability of the $k$th outcome, and $I_{x=k}$ is the indicator function which evaluates to 1 if $x = k$ and 0 otherwise. All porbabilties $p_k$ form a vector"
      ]
    },
    {
      "cell_type": "markdown",
      "metadata": {
        "id": "pKcEYWAi0maF"
      },
      "source": [
        "$$\n",
        "p =\n",
        "\\begin{pmatrix}\n",
        "p_1\\\\\n",
        "p_2\\\\\n",
        "\\dots \\\\\n",
        "p_K\n",
        "\\end{pmatrix},\n",
        "$$"
      ]
    },
    {
      "cell_type": "markdown",
      "metadata": {
        "id": "1N0RTGzk0maF"
      },
      "source": [
        "\n",
        "\n",
        "such that\n",
        "\n",
        "$$\n",
        "\\sum_k p_k = 1.\n",
        "$$"
      ]
    },
    {
      "cell_type": "markdown",
      "metadata": {
        "id": "HDIa9CPp0maF"
      },
      "source": [
        "`````{admonition} Task 08\n",
        ":class: tip\n",
        "Explain why a categorical distribution with $K = 2$ is equivalent to a Bernoulli distribution.\n",
        "`````"
      ]
    },
    {
      "cell_type": "code",
      "execution_count": null,
      "metadata": {
        "id": "zRBDXStj0maF"
      },
      "outputs": [],
      "source": [
        "ps = jnp.array([0.1, 0.2, 0.3, 0.4])\n",
        "categorical = dist.Categorical(probs=ps)"
      ]
    },
    {
      "cell_type": "markdown",
      "metadata": {
        "id": "uJH9ElId0maF"
      },
      "source": [
        "As before we can take some samples:"
      ]
    },
    {
      "cell_type": "code",
      "execution_count": null,
      "metadata": {
        "id": "0sXnQ8jj0maF",
        "outputId": "ac420555-5e4f-42f3-92a9-8314077db893"
      },
      "outputs": [
        {
          "name": "stdout",
          "output_type": "stream",
          "text": [
            "[3 2 1 3 3 1 2 1 3 3]\n"
          ]
        }
      ],
      "source": [
        "samples = categorical.sample(key=rng, sample_shape=(10,))\n",
        "print(samples)"
      ]
    },
    {
      "cell_type": "code",
      "execution_count": null,
      "metadata": {
        "id": "5K87c6KX0maF",
        "outputId": "d13ad1d8-eb37-4109-a349-5dbb110286ab"
      },
      "outputs": [
        {
          "name": "stdout",
          "output_type": "stream",
          "text": [
            "p(X=0) = 0.1\n",
            "p(X=1) = 0.2\n",
            "p(X=2) = 0.3\n",
            "p(X=3) = 0.4\n"
          ]
        }
      ],
      "source": [
        "print(f\"p(X=0) = {jnp.exp(categorical.log_prob(0)):.1f}\")\n",
        "print(f\"p(X=1) = {jnp.exp(categorical.log_prob(1)):.1f}\")\n",
        "print(f\"p(X=2) = {jnp.exp(categorical.log_prob(2)):.1f}\")\n",
        "print(f\"p(X=3) = {jnp.exp(categorical.log_prob(3)):.1f}\")"
      ]
    },
    {
      "cell_type": "markdown",
      "metadata": {
        "id": "qVa483FV0maF"
      },
      "source": [
        "We can use an alternative way to represent the categorical distribution. Instead of specifying the probabilities $p_k$, we specify <font color='orange'>logits</font> $l_k$. Each $p_k$ is then computed as\n",
        "\n",
        "$$\n",
        "p_k = \\frac{\\exp(l_k)}{\\sum_{k'}\\exp(l_{k'})},\n",
        "$$\n",
        "\n",
        "i.e., using the <font color='orange'>softmax</font> function."
      ]
    },
    {
      "cell_type": "code",
      "execution_count": null,
      "metadata": {
        "id": "_f7Iwx610maG",
        "outputId": "e43b9b7a-9c5f-429a-fc46-d8af15d27d5a"
      },
      "outputs": [
        {
          "data": {
            "image/png": "[encoded data removed]",
            "text/plain": [
              "<Figure size 500x300 with 1 Axes>"
            ]
          },
          "metadata": {
            "needs_background": "light"
          },
          "output_type": "display_data"
        }
      ],
      "source": [
        "l_0 = 0.7\n",
        "l_1 = 0.3\n",
        "l_2 = 2\n",
        "l_3 = 1.6\n",
        "\n",
        "logits = jnp.array([l_0, l_1, l_2, l_3], dtype=jnp.float32)\n",
        "categorical = dist.Categorical(logits=logits)\n",
        "samples = categorical.sample(key=rng, sample_shape=(1000,))\n",
        "\n",
        "values =[0, 1, 2, 3]\n",
        "num_bins = len(values)\n",
        "\n",
        "hist, _ = jnp.histogram(samples, bins=num_bins, density=True)\n",
        "\n",
        "fig = plt.figure(dpi=100, figsize=(5, 3))\n",
        "plt.bar(values, hist, color='teal', alpha=0.7)\n",
        "plt.xticks(values)\n",
        "plt.xlabel('x')\n",
        "plt.ylabel('p(X=x)')\n",
        "plt.grid(linestyle='--', alpha=0.7)\n",
        "plt.show()"
      ]
    },
    {
      "cell_type": "markdown",
      "metadata": {
        "id": "gOj7CzCF0maG"
      },
      "source": [
        "### The Ordinal distribution\n",
        "\n",
        "The ordinal distribution is a probability distribution used to model outcomes that are ranked or ordered, often encountered in scenarios where data points lack clear numerical interpretation but possess a defined order of precedence. It assigns probabilities to different rank orders, capturing the relative likelihood of each outcome's position within the ordered set."
      ]
    },
    {
      "cell_type": "code",
      "execution_count": null,
      "metadata": {
        "id": "dLzd8S9L0maG"
      },
      "outputs": [],
      "source": [
        "# Define study hours for each student\n",
        "study_hours = jnp.array([5, 7, 3, 10, 8, 6, 4, 9, 2, 7])\n",
        "\n",
        "# Define cutpoints for the ordered categories\n",
        "cutpoints = jnp.array([0., 5., 7., 10.])  # Ordered categories: (0, 5], (5, 7], (7, 10]\n",
        "\n",
        "# Sample logits (unnormalized probabilities) based on study hours\n",
        "logits = 0.5 * study_hours\n",
        "\n",
        "ordinal = dist.OrderedLogistic(logits, cutpoints)"
      ]
    },
    {
      "cell_type": "code",
      "execution_count": null,
      "metadata": {
        "id": "uuH4Caw10maG"
      },
      "outputs": [],
      "source": [
        "# Sample from the OrderedLogistic distribution\n",
        "ordinal = dist.OrderedLogistic(logits, cutpoints)\n",
        "samples = ordinal.sample(rng, (1000,))\n"
      ]
    },
    {
      "cell_type": "markdown",
      "metadata": {
        "id": "LCEVJXal0maG"
      },
      "source": [
        "## Continuous Distributions\n",
        "\n",
        "Continuous probability distributions describe the probabilities of outcomes within a continuous range of values.\n",
        "\n",
        "### The Beta distribution\n",
        "\n",
        "The Beta distribution is a continuous distribution with support in $[0,1] \\subset \\mathbb{R}$.\n",
        "The Beta distribution can be used to describe a continuous random variable between 0 and 1, for example, percentages and ratios. It has the following form\n",
        "```{margin}\n",
        "Note that in this distribution more than one parameter defines its shape.\n",
        "```\n",
        "\n",
        "$$\n",
        "p(X = x) = \\mathcal{Beta}(x|\\alpha,\\beta) = \\frac{1}{\\mathrm{B}(\\alpha,\\beta)}x^{\\alpha-1}(1 - x)^{\\beta - 1},\n",
        "$$\n",
        "\n",
        "where $\\alpha > 0$ and $\\beta > 0$ are the two <font color='orange'>shape</font> parameters of the distribution, and $\\mathrm{B}$ is called the beta function.\n",
        "\n",
        "Let's visualise the distribution.\n",
        "\n",
        "`````{admonition} Task 09\n",
        ":class: tip\n",
        "* Try making each parameter big or small while leaving the other at the same value.\n",
        "* Then try make them both big or small.\n",
        "`````"
      ]
    },
    {
      "cell_type": "code",
      "execution_count": null,
      "metadata": {
        "id": "sqzoES4z0maG",
        "outputId": "32b005e2-5e20-41e9-d620-7bf6c495fc70"
      },
      "outputs": [
        {
          "data": {
            "image/png": "[encoded data removed]",
            "text/plain": [
              "<Figure size 500x300 with 1 Axes>"
            ]
          },
          "metadata": {
            "needs_background": "light"
          },
          "output_type": "display_data"
        }
      ],
      "source": [
        "def beta_vis(a, b, x_ticks=True):\n",
        "\n",
        "    beta = dist.Beta(a, b)\n",
        "\n",
        "    x_values = jnp.linspace(0, 1, 1000)\n",
        "\n",
        "    pmf_values = jnp.exp(beta.log_prob(x_values))\n",
        "\n",
        "    fig = plt.figure(dpi=100, figsize=(5, 3))\n",
        "    plt.plot(x_values, pmf_values, alpha=0.7, color='teal')\n",
        "    plt.xlabel('x')\n",
        "    plt.ylabel('p(X=x)')\n",
        "    plt.title(f'Beta Distribution (a={a}, b={b})')\n",
        "    if x_ticks:\n",
        "        plt.xticks(x_values)\n",
        "    plt.grid( linestyle='--', alpha=0.7)\n",
        "\n",
        "    plt.show()\n",
        "\n",
        "beta_vis(a=4.3, b=3.2, x_ticks=False)"
      ]
    },
    {
      "cell_type": "markdown",
      "metadata": {
        "id": "gThBF0Ud0maH"
      },
      "source": []
    },
    {
      "cell_type": "markdown",
      "metadata": {
        "id": "DP4k8tZh0maH"
      },
      "source": [
        "### The Gamma distribution\n",
        "\n",
        "The Gamma distribution is a continuous distribution with support in $\\mathbb{R}^+$.\n",
        "Its PDF has the form\n",
        "\n",
        "$$p(X=x) = \\mathcal{Gamma}(x; \\alpha, \\beta) = \\frac{ \\beta^{\\alpha}}{\\Gamma(\\alpha)} x^{\\alpha - 1} e^{-\\beta x},$$\n",
        "\n",
        "where $\\alpha>0$ is the <font color='orange'>shape parameter</font>, which determines the shape of the distribution, and $\\beta>0$ is the <font color='orange'>scale</font> parameter.\n"
      ]
    },
    {
      "cell_type": "code",
      "execution_count": null,
      "metadata": {
        "id": "w415cuw60maH",
        "outputId": "f733b24b-b30b-4ef0-97ea-96bc1cbd76b3"
      },
      "outputs": [
        {
          "data": {
            "image/png": "[encoded data removed]",
            "text/plain": [
              "<Figure size 500x300 with 1 Axes>"
            ]
          },
          "metadata": {
            "needs_background": "light"
          },
          "output_type": "display_data"
        }
      ],
      "source": [
        "def gamma_vis(a, b, x_ticks=True):\n",
        "\n",
        "    gamma = dist.Gamma(a, b)\n",
        "\n",
        "    x_values = jnp.linspace(0, 20, 1000)\n",
        "\n",
        "    pmf_values = jnp.exp(gamma.log_prob(x_values))\n",
        "\n",
        "    fig = plt.figure(dpi=100, figsize=(5, 3))\n",
        "    plt.plot(x_values, pmf_values, alpha=0.7, color='teal')\n",
        "    plt.xlabel('x')\n",
        "    plt.ylabel('p(X=x)')\n",
        "    plt.title(f'Gamma Distribution (a={a}, b={b})')\n",
        "    if x_ticks:\n",
        "        plt.xticks(x_values)\n",
        "    plt.grid( linestyle='--', alpha=0.7)\n",
        "\n",
        "    plt.show()\n",
        "\n",
        "gamma_vis(a=2, b=0.5, x_ticks=False)"
      ]
    },
    {
      "cell_type": "markdown",
      "metadata": {
        "id": "8RMJr5vt0maH"
      },
      "source": [
        "### The Uniform distribution\n",
        "\n",
        "Perhaps, the simplest, but still a very important distribution among continuous distributions is the uniform distribution. Under this distribution, all possible values are equally likely. The uniform distribution has the following form\n",
        "\n",
        "$$\n",
        "p(X = x) = \\mathrm{Uniform}(x\\mid a, b) = \\begin{cases}\n",
        "\\frac{1}{b - a}\\, & \\text{if } a \\le x \\le b \\\\\n",
        "0\\, & \\text{otherwise},\n",
        "\\end{cases}\n",
        "$$\n",
        "\n",
        "where $a$ and $b$ are the <font color='orange'>upper</font> and <font color='orange'>lower bound</font> parameters, respectively."
      ]
    },
    {
      "cell_type": "code",
      "execution_count": null,
      "metadata": {
        "id": "f8njzJ_w0maH",
        "outputId": "e2aaed11-1cdf-4eda-86f5-8142434db128"
      },
      "outputs": [
        {
          "data": {
            "image/png": "[encoded data removed]",
            "text/plain": [
              "<Figure size 500x300 with 1 Axes>"
            ]
          },
          "metadata": {
            "needs_background": "light"
          },
          "output_type": "display_data"
        }
      ],
      "source": [
        "def uniform_vis(a, b, x_ticks=True):\n",
        "\n",
        "    uniform = dist.Uniform(low=a, high=b)\n",
        "    x_values = jnp.linspace(-5, 5, 1000)\n",
        "\n",
        "    pmf_values = jnp.exp(uniform.log_prob(x_values))\n",
        "\n",
        "    fig = plt.figure(dpi=100, figsize=(5, 3))\n",
        "    plt.plot(x_values, pmf_values, alpha=0.7, color='teal')\n",
        "    plt.xlabel('x')\n",
        "    plt.ylabel('p(X=x)')\n",
        "    plt.title(f'Uniform Distribution (a={a}, b={b})')\n",
        "    if x_ticks:\n",
        "        plt.xticks(x_values)\n",
        "    plt.grid(axis='y', linestyle='--', alpha=0.7)\n",
        "    plt.grid(axis='x', linestyle='--', alpha=0.7)\n",
        "    plt.xlim(-5, 5)\n",
        "\n",
        "    plt.show()\n",
        "\n",
        "uniform_vis(a=-1, b=3, x_ticks=False)"
      ]
    },
    {
      "cell_type": "markdown",
      "metadata": {
        "id": "IfStpfaH0maH"
      },
      "source": [
        "### The Normal distribution\n",
        "\n",
        "The normal – also known as *Gaussian* – distribution is one of the most common distributions for modeling *continuous* random variables, i.e., corresponding to events with an uncountable number of outcomes. Its probability density function is\n",
        "\n",
        "$$\n",
        "p(X = x) = \\mathcal{N}(x\\mid \\mu, \\sigma) = \\frac{1}{\\sqrt{2\\pi\\sigma^2}}\\exp\\left(-\\frac{(\\mu - x)^2}{2\\sigma^2}\\right),\n",
        "$$\n",
        "\n",
        "where $\\mu$ and $\\sigma$ are the <font color='orange'>mean</font> and <font color='orange'>standard deviation</font> (also called the location, and scale or square-root of the <font color='orange'>variance</font> $\\sigma^2$, respectively).\n",
        "\n",
        "`````{admonition} Task 10\n",
        ":class: tip\n",
        "How do the mean and standard deviation affect the samples?\n",
        "`````"
      ]
    },
    {
      "cell_type": "code",
      "execution_count": null,
      "metadata": {
        "id": "KSqz1S630maH",
        "outputId": "3c6c9df2-18a7-422a-a327-3862ac3c55e7"
      },
      "outputs": [
        {
          "data": {
            "image/png": "[encoded data removed]",
            "text/plain": [
              "<Figure size 500x300 with 1 Axes>"
            ]
          },
          "metadata": {
            "needs_background": "light"
          },
          "output_type": "display_data"
        }
      ],
      "source": [
        "def norm_vis(mu, sigma, x_ticks=False):\n",
        "\n",
        "    normal = dist.Normal(loc=mu, scale=sigma)\n",
        "\n",
        "    x_values = jnp.linspace(-5, 5, 1000)\n",
        "\n",
        "    pmf_values = jnp.exp(normal.log_prob(x_values))\n",
        "\n",
        "    fig = plt.figure(dpi=100, figsize=(5, 3))\n",
        "    plt.plot(x_values, pmf_values, alpha=0.7, color='teal')\n",
        "    plt.xlabel('x')\n",
        "    plt.ylabel('p(X=x)')\n",
        "    plt.title(f'Normal Distribution ($\\mu$={mu}, $\\sigma$={sigma})')\n",
        "    if x_ticks:\n",
        "        plt.xticks(x_values)\n",
        "    plt.grid(axis='y', linestyle='--', alpha=0.7)\n",
        "    plt.grid(axis='x', linestyle='--', alpha=0.7)\n",
        "    plt.xlim(-5, 5)\n",
        "\n",
        "    plt.show()\n",
        "\n",
        "norm_vis(mu = 0, sigma = 1 )"
      ]
    },
    {
      "cell_type": "markdown",
      "metadata": {
        "id": "CATAml680maH"
      },
      "source": [
        "\n",
        "`````{admonition} Task 11\n",
        ":class: tip\n",
        "Implement the PDF of the Normal distribution and test it using the function provided below.\n",
        "`````"
      ]
    },
    {
      "cell_type": "code",
      "execution_count": null,
      "metadata": {
        "id": "fpL0rgZN0maI"
      },
      "outputs": [],
      "source": [
        "def test_normal_pdf(pdf_fn, run=False):\n",
        "  if not run:\n",
        "    return\n",
        "  assert pdf_fn(0, 1, 0) == jnp.exp(dist.Normal(loc=0, scale=1).log_prob(0)), \"Normal(X=0|0, 1) is incorrect.\"\n",
        "  assert pdf_fn(0, 2, 0) == jnp.exp(dist.Normal(loc=0, scale=2).log_prob(0)), \"Normal(X=0|0, 2) is incorrect.\"\n",
        "  assert pdf_fn(0, 1, 1) == jnp.exp(dist.Normal(loc=0, scale=1).log_prob(1)), \"Normal(X=0|1, 1) is incorrect.\"\n",
        "  assert pdf_fn(2, 3, 1) == jnp.exp(dist.Normal(loc=2, scale=3).log_prob(1)), \"Normal(X=1|2, 3) is incorrect.\"\n",
        "  print(\"Nice! Your answer looks correct.\")"
      ]
    },
    {
      "cell_type": "markdown",
      "metadata": {
        "id": "QzM_y5n00maI"
      },
      "source": [
        "### The Multivariate Normal distribution\n",
        "\n",
        "```{margin}\n",
        "This distribution will be very useful in chapters where we will talk about Gaussian Processes and spatial modelling.\n",
        "```\n",
        "\n",
        "The *multivariate normal distribution* is a generalization of the *univariate normal distribution* to consider multiple random variables that have a <font color='orange'>jointly normal distribution</font>. In other words, it lets us model variables that are not independent – if we know the value of one variable, that tells us something about the other variables!\n",
        "More concretely, the multivariate normal distribution lets us consider multiple random variables such that when we condition on some of these variables the remaining variables have a normal distribution. These variables are distributed in a kind of stretched fuzzy ball in higher dimensional space.\n",
        "\n",
        "As a rule of thumb, the more one variable tells us about another, the larger the *covariance* or *correlation* between the two.\n",
        "\n",
        "We will be using the same notation for multivatiate and univariate normals $\\mathcal{N}$. Which one to use, should be clear from the context throughout this course.\n",
        "\n",
        "The PDF for an $D$-dimensional random variable $X$:\n",
        "\n",
        "$$\n",
        "p(X = x) = \\mathcal{N}(x\\mid \\mu, \\Sigma) = \\frac{1}{\\sqrt{(2\\pi)^D|\\Sigma|}}\\exp\\left(-\\frac{1}{2}(x - \\mu)^\\intercal\\Sigma^{-1}(x - \\mu)\\right),\n",
        "$$\n",
        "\n",
        "where $x$ and $\\mu$ are now vectors of numbers rather than single numbers, $\\Sigma$ is a <font color='orange'>covariance matrix</font> that replaces $\\sigma$ from our univariate definition above, and $|\\Sigma|$ is its determinant. The covariance matrix looks like this:\n",
        "\\begin{equation*}\n",
        "\\Sigma = \\begin{bmatrix}\\sigma_1^2 & \\rho_{12} \\sigma_1 \\sigma_2 & \\cdots &  \\rho_{1D} \\sigma_1 \\sigma_D  \\\\\n",
        "    \\rho_{21} \\sigma_2\\sigma_1 & \\sigma_2^2 & \\cdots &  \\rho_{2D} \\sigma_2 \\sigma_D \\\\\n",
        "    \\vdots & \\vdots & \\ddots & \\vdots \\\\\n",
        "    \\rho_{D1} \\sigma_D \\sigma_1 & \\rho_{D2} \\sigma_D \\sigma_2 & \\cdots & \\sigma_D^2 \\end{bmatrix}\n",
        "\\end{equation*}\n",
        "\n",
        "where $\\sigma_i^2$ is the variance for the $i$-th dimension, and $\\rho_{ij} = \\rho_{ji}$ is the *correlation* between the $i$-th and $j$-th dimensions. The covariance matrix tells us how the \"ball\" of random variables is stretched and rotated in space.\n",
        "\n",
        "`````{admonition} Task 12\n",
        ":class: tip\n",
        "Show that the equation above is equivalent to the univariate case when $D = 1$\n",
        "`````"
      ]
    },
    {
      "cell_type": "markdown",
      "metadata": {
        "id": "e03QRqET0maI"
      },
      "source": [
        "\n",
        "Now let's look at how the equation above simplifies in the two-dimensional case\n",
        "\n",
        "$$\n",
        "\\begin{align*}\n",
        "&p(X_1 = x_1, X_2 = x_2) = \\\\\n",
        "&\\mathcal{N}\\left( \\begin{bmatrix} x_1 \\\\ x_2 \\end{bmatrix} \\middle| \\begin{bmatrix} \\mu_1 \\\\ \\mu_2 \\end{bmatrix}, \\begin{bmatrix} \\sigma_1^2 & \\rho \\sigma_1 \\sigma_2 \\\\ \\rho \\sigma_1 \\sigma_2  &\\sigma_2^2 \\end{bmatrix}\\right)= \\\\\n",
        "&\\frac{1}{2\\pi\\sigma_1\\sigma_2\\sqrt{1 - \\rho^2}}\\exp\\left(-\\frac{1}{2(1 - \\rho^2)}\\left[\\left(\\frac{x_1 - \\mu_1}{\\sigma_1}\\right)^2 -2\\rho\\left(\\frac{x_1 - \\mu_1}{\\sigma_1}\\right)\\left(\\frac{x_2 - \\mu_2}{\\sigma_2}\\right)  + \\left(\\frac{x_2 - \\mu_2}{\\sigma_2}\\right)^2 \\right] \\right)\n",
        "\\end{align*}\n",
        "$$\n",
        "\n",
        "**Group task:** Try to understand what this equation means. Discuss the following questions with your neighbors.\n",
        "\n",
        "1. If $\\rho = 0$, how does this two-dimensional case relate to the one-dimensional case above?\n",
        "2. Now, think about what happens as $\\rho$ becomes larger? What if it becomes negative?\n",
        "\n",
        "We will come back to this distribution later in the course."
      ]
    },
    {
      "cell_type": "markdown",
      "metadata": {
        "id": "ZIJiCABG0maI"
      },
      "source": [
        "## Batch and event shapes\n",
        "\n",
        "All distributions in `numpyro` have an `event_shape` which describes how many dimensions the random variable is, e.g., for a 2-dimensional normal distribution this would be 2, and a `batch_shape` which describes how many sets of parameters the distribution has – it is probably easier to show what this means with the following examples rather than tell.\n",
        "\n",
        "Let's first look at a simple univariate normal $\\mathcal{N}(x|0, 1)$. We will evaluate the probabilities of $X = 1$ and $X = 2$:"
      ]
    },
    {
      "cell_type": "code",
      "execution_count": null,
      "metadata": {
        "id": "qJ4PjRnL0maI",
        "outputId": "39741921-da5f-4a58-f26a-a05fef700da6"
      },
      "outputs": [
        {
          "name": "stdout",
          "output_type": "stream",
          "text": [
            "event_shape = ()\n",
            "batch_shape = ()\n"
          ]
        },
        {
          "name": "stdout",
          "output_type": "stream",
          "text": [
            "p(X = [1. 2.]) = [0.24197073 0.05399096]\n"
          ]
        }
      ],
      "source": [
        "values = jnp.array([1., 2.])\n",
        "normal = dist.Normal(0., 1.)\n",
        "print(f\"event_shape = {normal.event_shape}\")\n",
        "print(f\"batch_shape = {normal.batch_shape}\")\n",
        "print(f\"p(X = {values}) = {jnp.exp(normal.log_prob(values))}\")"
      ]
    },
    {
      "cell_type": "markdown",
      "metadata": {
        "id": "u-d8KqpE0maI"
      },
      "source": [
        "We see that this distribution has an empty event shape, which you can think of as being the same as an event shape of 1 (like how a scalar is the same as a vector of length 1). The batch shape is also empty, since we only specified one set of parameters ($\\mu = 0, \\sigma = 1$).  \n",
        "\n",
        "Now since we tried to evaluate the probability of two values at once, and neither the event shape nor the batch shape are 2, this is equivalent to calling `dist.log_prob(1.)` and `dist.log_prob(2.)` separately. `numpyro` is just making our lives easier by *broadcasting* the `log_prob` calculation to do both $p(X=1) = \\mathcal{N}(X=1|0, 1)$ and $p(X=2) = \\mathcal{N}(X=2|0, 1)$ at the same time.\n",
        "\n",
        "We could also specify a *batch* of two sets of parameters so that we are essentially working with $\\mathcal{N}(x|0, 1)$ and $\\mathcal{N}(x|1, 2)$ at the same time:"
      ]
    },
    {
      "cell_type": "code",
      "execution_count": null,
      "metadata": {
        "id": "VcjSyE9m0maI",
        "outputId": "0e4af203-0cd5-4dc7-ee93-03b8225020aa"
      },
      "outputs": [
        {
          "name": "stdout",
          "output_type": "stream",
          "text": [
            "event_shape = ()\n",
            "batch_shape = (2,)\n",
            "[p(X_1 = 1.0), p(X_2 = 2.0)] = [0.24197073 0.17603266]\n",
            "p(X_1 = 1.0, X_2 = 2.0) = 0.042594753205776215\n"
          ]
        }
      ],
      "source": [
        "batch_normal = dist.Normal(jnp.array([0., 1.]), jnp.array([1., 2.]))\n",
        "print(f\"event_shape = {batch_normal.event_shape}\")\n",
        "print(f\"batch_shape = {batch_normal.batch_shape}\")\n",
        "print(f\"[p(X_1 = {values[0]}), p(X_2 = {values[1]})] = {jnp.exp(batch_normal.log_prob(values))}\")\n",
        "print(f\"p(X_1 = {values[0]}, X_2 = {values[1]}) = {jnp.prod(jnp.exp(batch_normal.log_prob(values)))}\")"
      ]
    },
    {
      "cell_type": "markdown",
      "metadata": {
        "id": "YWMulRc00maI"
      },
      "source": [
        "Now, notice that while the event shape is empty (as expected since we are still working with a univariate normal), the batch size is 2!\n",
        "\n",
        "As a result, the calculation we are doing is equivalent to separately calculating $p(X_1=1) = \\mathcal{N}(X_1=1|0, 1)$ and $p(X_2=2) = \\mathcal{N}(X_2=2|1, 2)$! Again, this is just `numpyro` making our lives easier.\n",
        "\n",
        "If we want to calculate $p(X_1=1,X_2=2)$, i.e., the joint probability that $X_1 = 1$ and $X_2 = 2$, then we either need to manually multiply the probabilities (assuming that $X_1$ and $X_2$ are independent) – as we've in the cell above – or we need to work with a multivariate normal.\n",
        "\n",
        "Let's look at the case when the $X_1$ and $X_2$ are independent:"
      ]
    },
    {
      "cell_type": "code",
      "execution_count": null,
      "metadata": {
        "id": "vwPvj5j60maI",
        "outputId": "cd1a3c6d-acb6-41b5-911f-b1687db78e39"
      },
      "outputs": [
        {
          "name": "stdout",
          "output_type": "stream",
          "text": [
            "event_shape = (2,)\n",
            "batch_shape = ()\n",
            "p(X_1 = 1.0, X_2 = 2.0) = 0.055732980370521545\n"
          ]
        }
      ],
      "source": [
        "multivariate_full_normal = dist.MultivariateNormal(jnp.array([0., 1.]), jnp.array([[1., 1.], [1., 2.**2]]))\n",
        "print(f\"event_shape = {multivariate_full_normal.event_shape}\")\n",
        "print(f\"batch_shape = {multivariate_full_normal.batch_shape}\")\n",
        "print(f\"p(X_1 = {values[0]}, X_2 = {values[1]}) = {jnp.exp(multivariate_full_normal.log_prob(values))}\")"
      ]
    },
    {
      "cell_type": "markdown",
      "metadata": {
        "id": "kiswdm1u0maI"
      },
      "source": [
        "This results in a slightly different value for the joint probability, but otherwise everything looks the same."
      ]
    },
    {
      "cell_type": "markdown",
      "metadata": {
        "id": "WcG87e8d0maI"
      },
      "source": [
        "## Measuring distances between distributions\n",
        "\n",
        "There are several ways to measure distances between two probability distributions with PDFs $p(x)$ and $q(x)$, each with its own characteristics and applications.\n",
        "\n",
        "- Total variation distance (TVD): This metric quantifies the difference between two probability distributions by measuring the total absolute difference between their probability mass functions (for discrete distributions) or probability density functions (for continuous distributions).\n",
        "\n",
        "$$\n",
        "\\text{TVD}(p, q) = \\frac{1}{2} \\int |p(x) - q(x)| \\, dx\n",
        "$$\n",
        "\n",
        "- Kullback-Leibler Divergence (KLD): Also known as relative entropy, measures the information lost when one probability distribution is used to approximate another. It is asymmetric, and, hence is not a 'distance' but a 'deviance'\n",
        "\n",
        "$$\n",
        "\\text{KLD}(p \\parallel q) = \\int p(x) \\log \\left( \\frac{p(x)}{q(x)} \\right) \\, dx\n",
        "$$\n",
        "\n",
        "- Jensen-Shannon Divergence (JSD): JSD is a symmetrized version of KLD. It measures the similarity between two probability distributions by averaging their KLD values.\n",
        "\n",
        "$$\n",
        "\\text{JSD}(p, q) = \\frac{1}{2} \\text{KLD}(p \\parallel m) + \\frac{1}{2} \\text{KLD}(q \\parallel m),\\\\\n",
        "m = \\frac{p+q}{2}\n",
        "$$\n",
        "\n",
        "- Hellinger Distance: This distance metric is used to measure the similarity between two probability distributions. It is based on the square root of the total variation distance and ranges between 0 and 1.\n",
        "\n",
        "$$\n",
        "\\text{Hellinger}(p, q) = \\sqrt{1 - \\int \\sqrt{p(x)q(x)} \\, dx}\n",
        "$$\n",
        "\n",
        "- Wasserstein Distance (Earth Mover's Distance): This metric measures the minimum amount of \"work\" needed to transform one distribution into another. It considers the underlying structure of the distributions and is often used in optimal transport theory. $\\Gamma(p, q)$ represents the set of all joint distributions with marginals $p$ and $q$. The Wasserstein distance is defined as the minimum \"cost\" required to transform one distribution into another.\n",
        "\n",
        "$$\n",
        "\\text{Wasserstein}_m(p, q) = \\left( \\inf_{\\gamma \\in \\Gamma(p, q)} \\int_{\\mathcal{X} \\times \\mathcal{X}} d(x, y)^m \\, d\\gamma(x, y) \\right)^{\\frac{1}{m}}\n",
        "$$\n",
        "\n",
        "- Maximum Mean Discrepancy (MMD) between two distributions can be defined using the kernel trick. Let $\\phi(x)$ be a feature map $\\phi(x)$, and $\\mathbb{E}_{x \\sim P}[ \\phi(x) ]$ the expected value of the feature map $\\phi(x)$ computed over samples drawn from distribution $p$. In the same way, $\\mathbb{E}_{y \\sim Q}[ \\phi(y) ]$ is the expected value of the feature map $\\phi(y)$ computed over samples drawn from distribution $q$, $\\| \\cdot \\|$ is the Euclidean norm. The feature map $\\phi$ is usually chosen to be a reproducing kernel Hilbert space (RKHS) kernel function, such as the Gaussian kernel $k(x, y) = \\exp \\left( -\\frac{\\| x - y \\|^2}{2\\sigma^2} \\right)$.\n",
        "\n",
        "$$\n",
        "MMD(p, q) = \\left\\| \\mathbb{E}_{x \\sim p}[ \\phi(x) ] - \\mathbb{E}_{y \\sim q}[ \\phi(y) ] \\right\\|^2\n",
        "$$"
      ]
    },
    {
      "cell_type": "markdown",
      "metadata": {
        "id": "B8WBsTIU0maI"
      },
      "source": [
        "```{margin}\n",
        "For all implementations, use `jax` or `numpyro` functionality. For instance, `import jax.numpy as jnp` instead of `import numpy as np`. And `import numpyro.distributions as dist` for access to distributions.\n",
        "````"
      ]
    },
    {
      "cell_type": "markdown",
      "metadata": {
        "id": "sTHbofUz0maI"
      },
      "source": [
        "`````{admonition} Task 13\n",
        ":class: tip\n",
        "1. Implement numeric evaluation of the KL divergence:\n",
        "\n",
        "```\n",
        "def kl_divergence(p: dist.Distribution, q: dist.Distribution, n: int = 10_000):\n",
        "    \"\"\"\n",
        "    add your code here\n",
        "    \"\"\"  \n",
        "    pass\n",
        "```\n",
        "\n",
        "2. Calculate the following KL divergence. What do we see?\n",
        "    - $\\mathrm{KLD}\\left[\\mathrm{Uniform}(0, 1) \\mid\\mid \\mathrm{Uniform}(0, 1)\\right]$\n",
        "    - $\\mathrm{KLD}\\left[\\mathrm{Beta}(5, 2) \\mid\\mid \\mathrm{Beta}(5, 2)\\right]$\n",
        "  \n",
        "3. Calculate the following KL divergences. What can we say about the relationship between the beta and uniform distributions?\n",
        "    - What is $\\mathrm{KLD}\\left[\\mathrm{Uniform}(0, 1) \\mid\\mid \\mathrm{Beta}(5, 2)\\right]$?\n",
        "    - What is $\\mathrm{KLD}\\left[\\mathrm{Uniform}(0, 1) \\mid\\mid \\mathrm{Beta}(2, 2)\\right]$?\n",
        "    - What is $\\mathrm{KLD}\\left[\\mathrm{Uniform}(0, 1) \\mid\\mid \\mathrm{Beta}(1, 1)\\right]$?\n",
        "  \n",
        "4. What is $\\mathrm{KLD}\\left[ \\mathrm{Beta}(5, 2) \\mid\\mid \\mathrm{Uniform}(0, 1)\\right]$. How does it compare to $D_\\mathrm{KL}\\left[\\mathrm{Uniform}(0, 1) \\mid\\mid \\mathrm{Beta}(5, 2)\\right]$ from above?\n",
        "\n",
        "5. Compare $\\mathrm{KLD}\\left[\\mathrm{Uniform}(-1, 1) \\mid\\mid \\mathcal{N}(0, 1)\\right]$ and $D_\\mathrm{KL}\\left[\\mathcal{N}(0, 1) \\mid\\mid  \\mathrm{Uniform}(-1, 1) \\right]$.\n",
        "`````"
      ]
    },
    {
      "cell_type": "markdown",
      "metadata": {
        "id": "3TsE4THk0maI"
      },
      "source": [
        "```{margin}\n",
        "You can tackle this task during week 2, as we have not looked at kernels yet.\n",
        "```"
      ]
    },
    {
      "cell_type": "markdown",
      "metadata": {
        "id": "9168uY-A0maI"
      },
      "source": [
        "`````{admonition} Task 14 (week 2)\n",
        ":class: tip\n",
        "\n",
        "1. Implement numeric evaluation of MMD taking as inputs two distributions `p` and `q` of type `dist.Distributions`, number of samples `n`. Use RBF gaussian as a default kernel.\n",
        "\n",
        "2. Modify the MMD computation code to accept different kernel functions besides the RBF kernel: linear, polynomial, and exponential kernels.\n",
        "\n",
        "\n",
        "`````"
      ]
    },
    {
      "cell_type": "markdown",
      "metadata": {
        "id": "48NebQ1Z0maI"
      },
      "source": []
    },
    {
      "cell_type": "code",
      "execution_count": null,
      "metadata": {
        "id": "XSLuN3FP0maI"
      },
      "outputs": [],
      "source": []
    }
  ],
  "metadata": {
    "colab": {
      "provenance": [],
      "include_colab_link": true
    },
    "kernelspec": {
      "display_name": "Python 3",
      "name": "python3"
    },
    "language_info": {
      "codemirror_mode": {
        "name": "ipython",
        "version": 3
      },
      "file_extension": ".py",
      "mimetype": "text/x-python",
      "name": "python",
      "nbconvert_exporter": "python",
      "pygments_lexer": "ipython3",
      "version": "3.9.18"
    }
  },
  "nbformat": 4,
  "nbformat_minor": 0
}